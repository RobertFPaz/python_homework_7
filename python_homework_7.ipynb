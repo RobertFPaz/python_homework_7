{
 "cells": [
  {
   "cell_type": "code",
   "execution_count": null,
   "id": "9b4732aa",
   "metadata": {},
   "outputs": [],
   "source": [
    "#Exercise 1. Reverse the list below in-place using in-place alogrithm. \n",
    "#Extra credit: reverse the string at the same time. \n",
    "words = ['this', 'is', 'a', 'sentence', '.']\n",
    "\n",
    "def reverse(a_list):\n",
    "    idx_1 = 0\n",
    "    idx_2 = len(a_list) - 1\n",
    "    while idx_1 <= idx_2:\n",
    "        a_list[idx_1], a_list[idx_2] = a_list[idx_2][::-1], a_list[idx_1][::-1]\n",
    "        idx_1 += 1\n",
    "        idx_2 -= 1\n",
    "    return a_list\n",
    "reverse(words)"
   ]
  },
  {
   "cell_type": "code",
   "execution_count": null,
   "id": "0802d80d",
   "metadata": {},
   "outputs": [],
   "source": [
    "#Exercise 2. Create a function that count how many distinct words are in the string below, then\n",
    "#outputs a dictionary with the words as the key and the value as the amoutn of times the word appears.\n",
    "#Hint: Look up hash tables hash map\n",
    "a_text = 'In computing, a hash table hash map is a data structure which implements an associative array abstract data type, a structure that can map keys to values. A hash table uses a hash function to compute an index into an array of buckets or slots from which the desired value can be found'\n",
    "def uniqueWords(a_string):\n",
    "    a_list = a_text.split()\n",
    "    words_dict = {}\n",
    "    for word in a_list:\n",
    "        if word.lower() in words_dict:\n",
    "            words_dict[word.lower()] += 1\n",
    "        else:\n",
    "            words_dict[word.lower()] = 1\n",
    "    return words_dict\n",
    "uniqueWords(a_text)\n",
    "            "
   ]
  },
  {
   "cell_type": "code",
   "execution_count": null,
   "id": "e58b7a52",
   "metadata": {},
   "outputs": [],
   "source": [
    "#Exercise 3. Write a program to implement a Linear Search algorithm. Also, in a comment write the Time Complexity\n",
    "#of the following alogrithm. \n",
    "#Hint: Linear Searching will require searching a list for a given number. \n",
    "#If not present return -1\n",
    "nums_list = [10, 23, 45, 70, 11, 15]\n",
    "target = 70\n",
    "def linear_search(a_list, target):\n",
    "    for num in a_list:\n",
    "        if num == target:\n",
    "            return \"Found\"\n",
    "    return -1\n",
    "linear_search(nums_list, target)\n",
    "#Best case is O(1) when the number is at the beginning of the list. Worst-case complexity is O(n) when the number \n",
    "#is at the end of the list or not present. "
   ]
  },
  {
   "cell_type": "code",
   "execution_count": null,
   "id": "68160103",
   "metadata": {},
   "outputs": [],
   "source": []
  }
 ],
 "metadata": {
  "kernelspec": {
   "display_name": "Python 3 (ipykernel)",
   "language": "python",
   "name": "python3"
  },
  "language_info": {
   "codemirror_mode": {
    "name": "ipython",
    "version": 3
   },
   "file_extension": ".py",
   "mimetype": "text/x-python",
   "name": "python",
   "nbconvert_exporter": "python",
   "pygments_lexer": "ipython3",
   "version": "3.9.12"
  }
 },
 "nbformat": 4,
 "nbformat_minor": 5
}
